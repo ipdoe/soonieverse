{
 "cells": [
  {
   "cell_type": "code",
   "execution_count": 1,
   "metadata": {},
   "outputs": [],
   "source": [
    "import requests, json, time\n",
    "metadata_file = \"dat/metadata.json\"\n",
    "metadata = json.load(open(metadata_file, \"r\"))\n",
    "\n",
    "# trait_cnt = {\"NFT_Total\": len(metadata)}\n",
    "trait_cnt = {}\n",
    "for nft in metadata:\n",
    "    attr_len = len(nft['attributes'])\n",
    "    try:\n",
    "        trait_cnt['count'][f'{attr_len}'] += 1\n",
    "    except:\n",
    "        try:\n",
    "            trait_cnt['count'][f'{attr_len}'] = 1\n",
    "        except:\n",
    "            trait_cnt['count'] = {f'{attr_len}': 1}\n",
    "\n",
    "    for trait in nft['attributes']:\n",
    "        try:\n",
    "            trait_cnt[trait['trait_type']][trait['value']] += 1\n",
    "        except:\n",
    "            try:\n",
    "                trait_cnt[trait['trait_type']][trait['value']] = 1\n",
    "            except:\n",
    "                trait_cnt[trait['trait_type']] = {trait['value']: 1}\n",
    "\n",
    "for trait in trait_cnt:\n",
    "    # print(trait_cnt[trait])\n",
    "    trait_cnt[trait] = dict(sorted(trait_cnt[trait].items(), key=lambda x: x[1]))\n",
    "    # a = sorted(trait.items(), key=lambda trait: trait[1])  \n",
    "\n",
    "trait_cnt = {\"NFT_Total\": len(metadata), **trait_cnt}\n",
    "\n",
    "with open(\"dat/traits_count.json\", 'w') as f:\n",
    "    f.write(json.dumps(trait_cnt, indent=2))"
   ]
  },
  {
   "cell_type": "code",
   "execution_count": 14,
   "metadata": {},
   "outputs": [
    {
     "name": "stdout",
     "output_type": "stream",
     "text": [
      "count None: 0\n",
      "Background None: 0\n",
      "Body None: 0\n",
      "Booster None: 0\n",
      "Cockpit None: 0\n",
      "Decoration None: 0\n",
      "Details None: 0\n",
      "Module None: 0\n",
      "Top Module None: 0\n",
      "Wings None: 0\n"
     ]
    }
   ],
   "source": [
    "trait_cnt = json.load(open(\"dat/traits_count.json\", \"r\"))\n",
    "\n",
    "for trait_type in trait_cnt:\n",
    "    total = 0\n",
    "    try:\n",
    "        for trait in trait_cnt[trait_type]:\n",
    "            total += trait_cnt[trait_type][trait]\n",
    "        \n",
    "        none = 1111 - total\n",
    "        print(f\"{trait_type} None: {none}\")\n",
    "        if (none > 0):\n",
    "            trait_cnt[trait_type][\"None\"] = none\n",
    "    except:\n",
    "        pass\n",
    "\n",
    "for trait in trait_cnt:\n",
    "    try:\n",
    "        trait_cnt[trait] = dict(sorted(trait_cnt[trait].items(), key=lambda x: x[1]))\n",
    "    except:\n",
    "        pass\n",
    "\n",
    "with open(\"dat/traits_count.json\", 'w') as f:\n",
    "    f.write(json.dumps(trait_cnt, indent=2))"
   ]
  }
 ],
 "metadata": {
  "kernelspec": {
   "display_name": "Python 3.10.0 ('soonieverse-CQ9cojJM')",
   "language": "python",
   "name": "python3"
  },
  "language_info": {
   "codemirror_mode": {
    "name": "ipython",
    "version": 3
   },
   "file_extension": ".py",
   "mimetype": "text/x-python",
   "name": "python",
   "nbconvert_exporter": "python",
   "pygments_lexer": "ipython3",
   "version": "3.10.0"
  },
  "orig_nbformat": 4,
  "vscode": {
   "interpreter": {
    "hash": "3babaefecb1ff464fa1c20446a94afa7cde3c587bb6004644da0dcb3487a7b9d"
   }
  }
 },
 "nbformat": 4,
 "nbformat_minor": 2
}
