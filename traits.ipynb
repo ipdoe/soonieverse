{
 "cells": [
  {
   "cell_type": "code",
   "execution_count": 29,
   "metadata": {},
   "outputs": [],
   "source": [
    "import requests, json, time\n",
    "metadata_file = \"dat/metadata.json\"\n",
    "metadata = json.load(open(metadata_file, \"r\"))\n",
    "\n",
    "# trait_cnt = {\"NFT_Total\": len(metadata)}\n",
    "trait_cnt = {}\n",
    "for nft in metadata:\n",
    "    attr_len = len(nft['attributes'])\n",
    "    try:\n",
    "        trait_cnt['count'][f'{attr_len}'] += 1\n",
    "    except:\n",
    "        try:\n",
    "            trait_cnt['count'][f'{attr_len}'] = 1\n",
    "        except:\n",
    "            trait_cnt['count'] = {f'{attr_len}': 1}\n",
    "\n",
    "    for trait in nft['attributes']:\n",
    "        try:\n",
    "            trait_cnt[trait['trait_type']][trait['value']] += 1\n",
    "        except:\n",
    "            try:\n",
    "                trait_cnt[trait['trait_type']][trait['value']] = 1\n",
    "            except:\n",
    "                trait_cnt[trait['trait_type']] = {trait['value']: 1}\n",
    "\n",
    "for trait in trait_cnt:\n",
    "    # print(trait_cnt[trait])\n",
    "    trait_cnt[trait] = dict(sorted(trait_cnt[trait].items(), key=lambda x: x[1]))\n",
    "    # a = sorted(trait.items(), key=lambda trait: trait[1])  \n",
    "\n",
    "trait_cnt = {\"NFT_Total\": len(metadata), **trait_cnt}\n",
    "\n",
    "with open(\"dat/traits_count.json\", 'w') as f:\n",
    "    f.write(json.dumps(trait_cnt, indent=2))"
   ]
  }
 ],
 "metadata": {
  "kernelspec": {
   "display_name": "Python 3.10.0 ('soonieverse-zQhoTt4i')",
   "language": "python",
   "name": "python3"
  },
  "language_info": {
   "codemirror_mode": {
    "name": "ipython",
    "version": 3
   },
   "file_extension": ".py",
   "mimetype": "text/x-python",
   "name": "python",
   "nbconvert_exporter": "python",
   "pygments_lexer": "ipython3",
   "version": "3.10.0"
  },
  "orig_nbformat": 4,
  "vscode": {
   "interpreter": {
    "hash": "768f544d711ce517118a4b8c3f9bd46e514a0520186b170b73382f9d5363dbc5"
   }
  }
 },
 "nbformat": 4,
 "nbformat_minor": 2
}
