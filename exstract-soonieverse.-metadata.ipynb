{
 "cells": [
  {
   "cell_type": "code",
   "execution_count": 20,
   "metadata": {},
   "outputs": [
    {
     "name": "stdout",
     "output_type": "stream",
     "text": [
      "1111\n",
      "dumping\n"
     ]
    }
   ],
   "source": [
    "import requests, json, time\n",
    "\n",
    "for x in range(0, 1):\n",
    "    metadata_file = \"metadata-wip.json\"\n",
    "    metadata = json.load(open(metadata_file, \"r\"))\n",
    "    len(metadata)\n",
    "\n",
    "    try:\n",
    "        for i in range(len(metadata) + 1, 1112):\n",
    "            metadata.append(requests.get(f\"https://nft.bueno.art/api/contract/Bc0zn7RZpT03Kzl6LSjeF/chain/1/metadata/{i}\").json())\n",
    "            print(i)\n",
    "            print(\"dumping\")\n",
    "            with open(metadata_file, \"w\") as f:\n",
    "                json.dump(metadata, f)\n",
    "    except:\n",
    "        print(\"dumping\")\n",
    "        with open(metadata_file, \"w\") as f:\n",
    "            json.dump(metadata, f)\n",
    "    time.sleep(6)"
   ]
  },
  {
   "cell_type": "code",
   "execution_count": 29,
   "metadata": {},
   "outputs": [
    {
     "data": {
      "text/plain": [
       "'https://www.soonieverse.com/gallery/genesis-spaceships?id=1'"
      ]
     },
     "execution_count": 29,
     "metadata": {},
     "output_type": "execute_result"
    }
   ],
   "source": [
    "metadata[0]['external_url']"
   ]
  },
  {
   "cell_type": "code",
   "execution_count": 43,
   "metadata": {},
   "outputs": [],
   "source": [
    "metadata = json.load(open(metadata_file, \"r\"))\n",
    "len(metadata)\n",
    "\n",
    "for i in range(1, 1112):\n",
    "    # print(f\"{i} == {int(metadata[i - 1]['external_url'].split('=')[1])}\")\n",
    "    assert int(metadata[i - 1]['external_url'].split('=')[1]) == i"
   ]
  },
  {
   "cell_type": "code",
   "execution_count": 5,
   "metadata": {},
   "outputs": [
    {
     "ename": "NameError",
     "evalue": "name 'json' is not defined",
     "output_type": "error",
     "traceback": [
      "\u001b[1;31m---------------------------------------------------------------------------\u001b[0m",
      "\u001b[1;31mNameError\u001b[0m                                 Traceback (most recent call last)",
      "Cell \u001b[1;32mIn [5], line 2\u001b[0m\n\u001b[0;32m      1\u001b[0m metadata_file \u001b[38;5;241m=\u001b[39m \u001b[38;5;124m\"\u001b[39m\u001b[38;5;124mdat/metadata.json\u001b[39m\u001b[38;5;124m\"\u001b[39m\n\u001b[1;32m----> 2\u001b[0m metadata \u001b[38;5;241m=\u001b[39m json\u001b[38;5;241m.\u001b[39mload(\u001b[38;5;28mopen\u001b[39m(metadata_file, \u001b[38;5;124m\"\u001b[39m\u001b[38;5;124mr\u001b[39m\u001b[38;5;124m\"\u001b[39m))\n\u001b[0;32m      4\u001b[0m nft \u001b[38;5;241m=\u001b[39m metadata[\u001b[38;5;241m5\u001b[39m]\n\u001b[0;32m      5\u001b[0m \u001b[38;5;66;03m# nft['attributes']\u001b[39;00m\n",
      "\u001b[1;31mNameError\u001b[0m: name 'json' is not defined"
     ]
    }
   ],
   "source": [
    "metadata_file = \"dat/metadata.json\"\n",
    "metadata = json.load(open(metadata_file, \"r\"))\n",
    "\n",
    "nft = metadata[5]\n",
    "# nft['attributes']\n",
    "\n",
    "for trait in nft['attributes']:\n",
    "    print(trait)"
   ]
  }
 ],
 "metadata": {
  "kernelspec": {
   "display_name": "Python 3.10.0 ('soonieverse-zQhoTt4i')",
   "language": "python",
   "name": "python3"
  },
  "language_info": {
   "codemirror_mode": {
    "name": "ipython",
    "version": 3
   },
   "file_extension": ".py",
   "mimetype": "text/x-python",
   "name": "python",
   "nbconvert_exporter": "python",
   "pygments_lexer": "ipython3",
   "version": "3.10.0"
  },
  "orig_nbformat": 4,
  "vscode": {
   "interpreter": {
    "hash": "768f544d711ce517118a4b8c3f9bd46e514a0520186b170b73382f9d5363dbc5"
   }
  }
 },
 "nbformat": 4,
 "nbformat_minor": 2
}
